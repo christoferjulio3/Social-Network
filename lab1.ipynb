{
  "nbformat": 4,
  "nbformat_minor": 0,
  "metadata": {
    "colab": {
      "provenance": [],
      "collapsed_sections": [],
      "toc_visible": true,
      "include_colab_link": true
    },
    "kernelspec": {
      "name": "python3",
      "display_name": "Python 3"
    },
    "language_info": {
      "name": "python"
    }
  },
  "cells": [
    {
      "cell_type": "markdown",
      "metadata": {
        "id": "view-in-github",
        "colab_type": "text"
      },
      "source": [
        "<a href=\"https://colab.research.google.com/github/christoferjulio3/Social-Network/blob/main/lab1.ipynb\" target=\"_parent\"><img src=\"https://colab.research.google.com/assets/colab-badge.svg\" alt=\"Open In Colab\"/></a>"
      ]
    },
    {
      "cell_type": "markdown",
      "source": [
        "# LAB 1\n",
        "\n",
        "\n",
        "\n",
        "## Policies\n",
        "1.   Any python package that can be installed with pip can be used(imported).\n",
        "\n",
        "socore\n",
        "\n",
        "\n"
      ],
      "metadata": {
        "id": "fxp3NR-vZtlX"
      }
    },
    {
      "cell_type": "code",
      "source": [
        "!pip install networkx"
      ],
      "metadata": {
        "colab": {
          "base_uri": "https://localhost:8080/"
        },
        "id": "LUH6ZuQKz7ai",
        "outputId": "a4a99e82-083a-46e4-ee57-53bdcd60a137"
      },
      "execution_count": null,
      "outputs": [
        {
          "output_type": "stream",
          "name": "stdout",
          "text": [
            "Looking in indexes: https://pypi.org/simple, https://us-python.pkg.dev/colab-wheels/public/simple/\n",
            "Requirement already satisfied: networkx in /usr/local/lib/python3.7/dist-packages (2.6.3)\n"
          ]
        }
      ]
    },
    {
      "cell_type": "code",
      "execution_count": null,
      "metadata": {
        "id": "NUoI1DqQEQwA"
      },
      "outputs": [],
      "source": [
        "import networkx as nx\n",
        "import matplotlib.pyplot as plt\n",
        "import numpy as np\n",
        "\n",
        "%matplotlib inline"
      ]
    },
    {
      "cell_type": "markdown",
      "source": [
        "## Load the graph\n",
        "\n",
        "We use nx.house_x_graph() as our testing example, however, we will not use this testing example for our final grading .\n",
        "\n",
        "The exact testing data for the final grading will be an undirected graph and it will be announced after the due date."
      ],
      "metadata": {
        "id": "2Faf4Vsn6kk6"
      }
    },
    {
      "cell_type": "code",
      "source": [
        "\n",
        "# load the graph\n",
        "#G = nx.karate_club_graph()\n",
        "\n",
        "G = nx.house_x_graph()\n",
        "# visualize the graph\n",
        "nx.draw(G, with_labels = True)"
      ],
      "metadata": {
        "colab": {
          "base_uri": "https://localhost:8080/",
          "height": 319
        },
        "id": "cODoTz8SIPhu",
        "outputId": "db696794-099c-4c2f-e550-93f546bc2012"
      },
      "execution_count": null,
      "outputs": [
        {
          "output_type": "display_data",
          "data": {
            "text/plain": [
              "<Figure size 432x288 with 1 Axes>"
            ],
            "image/png": "[encoded data removed]"
          },
          "metadata": {}
        }
      ]
    },
    {
      "cell_type": "code",
      "source": [
        "print(list(nx.nodes(G))) # list of nodes\n",
        "print(list(nx.edges(G))) # list of edges(start, end)\n",
        "print(list(nx.degree(G))) # list of (node_id, degree(node_i))\n",
        "\n"
      ],
      "metadata": {
        "colab": {
          "base_uri": "https://localhost:8080/"
        },
        "id": "GFoYNcOaqB8g",
        "outputId": "e8f4e223-74fc-4bae-f7a9-14e1f71c03a6"
      },
      "execution_count": null,
      "outputs": [
        {
          "output_type": "stream",
          "name": "stdout",
          "text": [
            "[0, 1, 2, 3, 4]\n",
            "[(0, 1), (0, 2), (0, 3), (1, 2), (1, 3), (2, 3), (2, 4), (3, 4)]\n",
            "[(0, 3), (1, 3), (2, 4), (3, 4), (4, 2)]\n"
          ]
        }
      ]
    },
    {
      "cell_type": "markdown",
      "source": [
        "Please refer to the NetworkX documentation for more details : [NetworkX](https://networkx.org/documentation/stable/reference/index.html)"
      ],
      "metadata": {
        "id": "_qwhEUfzseQo"
      }
    },
    {
      "cell_type": "markdown",
      "source": [
        "## Part 1 - Degree distribution (15 points)\n",
        "\n",
        "\n"
      ],
      "metadata": {
        "id": "wbbMd5FW7Jny"
      }
    },
    {
      "cell_type": "code",
      "source": [
        "def plot_degree_distribution(G):\n",
        "  '''\n",
        "  TODO\n",
        "\n",
        "  '''\n",
        "  print(degree_hist)\n",
        "  degree_hist = np.array(degree_hist)\n",
        "  degree_hist_dist = degree_hist/sum(degree_hist)\n",
        "  \n",
        "  x = np.arange(0, len(degree_hist))\n",
        "  plt.scatter(x, degree_hist_dist , c =\"blue\")\n",
        "  plt.show()\n",
        "\n",
        "plot_degree_distribution(G)\n"
      ],
      "metadata": {
        "colab": {
          "base_uri": "https://localhost:8080/",
          "height": 282
        },
        "id": "i4ZCxkaE7hS_",
        "outputId": "914f9d26-5605-4722-8394-044bc89d175f"
      },
      "execution_count": null,
      "outputs": [
        {
          "output_type": "stream",
          "name": "stdout",
          "text": [
            "[0, 0, 1, 2, 2]\n"
          ]
        },
        {
          "output_type": "display_data",
          "data": {
            "text/plain": [
              "<Figure size 432x288 with 1 Axes>"
            ],
            "image/png": "[encoded data removed]"
          },
          "metadata": {
            "needs_background": "light"
          }
        }
      ]
    },
    {
      "cell_type": "markdown",
      "source": [
        "## Part 2 - Network diameter (15 points)\n",
        "\n",
        "\n",
        "$$diameter=\\max\\{\\text{shortest_path}(i, j), ∀i, j \\in\\{0,1, ..., N-1\\}\\}$$\n",
        "$N$ is the number of nodes."
      ],
      "metadata": {
        "id": "HzCg-_5I8HdC"
      }
    },
    {
      "cell_type": "code",
      "source": [
        "paths = nx.shortest_path(G)\n",
        "\n",
        "print(paths[0][4])"
      ],
      "metadata": {
        "colab": {
          "base_uri": "https://localhost:8080/"
        },
        "id": "fscqPNrE8mNZ",
        "outputId": "405a1fc7-fa70-4a59-8b40-b14c12c9f104"
      },
      "execution_count": null,
      "outputs": [
        {
          "output_type": "stream",
          "name": "stdout",
          "text": [
            "[0, 2, 4]\n"
          ]
        }
      ]
    },
    {
      "cell_type": "code",
      "source": [
        "\n",
        "def max_shortest_path_algo(paths):\n",
        "\n",
        "  max_length = 0\n",
        "  max_shortest_path = None\n",
        "  '''\n",
        "  TODO\n",
        "  '''\n",
        "\n",
        "  return max_shortest_path, max_length\n",
        "\n",
        "max_shortest_path, max_length = max_shortest_path_algo(paths)\n",
        "max_shortest_path_edges = []\n",
        "\n",
        "for i in range(len(max_shortest_path)-1):\n",
        "  max_shortest_path_edges.append((max_shortest_path[i], max_shortest_path[i+1]))\n",
        "\n",
        "print(\"Diameter = {}\".format(max_length))\n",
        "print(max_shortest_path)\n",
        "\n",
        "pos = nx.spring_layout(G)\n",
        "nx.draw(G, pos=pos,  with_labels=True)\n",
        "nx.draw_networkx_edges(G, edge_color='r', edgelist=max_shortest_path_edges, pos=pos)\n",
        "plt.show()"
      ],
      "metadata": {
        "colab": {
          "base_uri": "https://localhost:8080/",
          "height": 354
        },
        "id": "8pzX6n1w8Sj1",
        "outputId": "6b96d2c7-79f3-4b62-c951-449963bd548c"
      },
      "execution_count": null,
      "outputs": [
        {
          "output_type": "stream",
          "name": "stdout",
          "text": [
            "Diameter = 2\n",
            "[0, 2, 4]\n"
          ]
        },
        {
          "output_type": "display_data",
          "data": {
            "text/plain": [
              "<Figure size 432x288 with 1 Axes>"
            ],
            "image/png": "[encoded data removed]"
          },
          "metadata": {}
        }
      ]
    },
    {
      "cell_type": "markdown",
      "source": [
        "## Part 3 - Clustering coeficient (15 points)\n",
        "\n",
        "### Global clustering coefficient\n",
        "$$c_{global} =3\\times \\frac{\\text{number of triangles}}{\\text{number of connected triplets}}$$\n",
        "\n"
      ],
      "metadata": {
        "id": "zJiE4Vly8--y"
      }
    },
    {
      "cell_type": "code",
      "source": [
        "global_clustering_coefficient = 0\n",
        "'''\n",
        "TODO\n",
        "'''\n",
        "print(\"Global clustering coefficient = {}\".format(global_clustering_coefficient))\n"
      ],
      "metadata": {
        "colab": {
          "base_uri": "https://localhost:8080/"
        },
        "id": "WLV-Epdo-qkC",
        "outputId": "0b158832-b6d3-4b02-bc0b-3490b0e12e9c"
      },
      "execution_count": null,
      "outputs": [
        {
          "output_type": "stream",
          "name": "stdout",
          "text": [
            "Global clustering coefficient = 0.7894736842105263\n"
          ]
        }
      ]
    },
    {
      "cell_type": "markdown",
      "source": [
        "## Part 4 - Centrality (15 points)\n",
        "\n",
        "\n",
        "### Betweenness Centrality\n",
        "$$C_b(v_i)=\\sum_{v_i\\neq s \\neq t}\\frac {\\sigma_{st}(v_i)}{\\sigma_{st}}$$\n",
        "\n",
        "$\\sigma_{st}$ : the number of shortest paths from vertex $𝑠$ to $𝑡$\n",
        "\n",
        "$\\sigma_{st}(v_i)$ : the number of shortest paths from $𝑠$ to $𝑡$ that pass through $v_i$\n",
        "\n",
        "\n",
        "### Closenees Centrality\n",
        "\n",
        "$$C_c(v_i)=\\frac{n-1}{\\sum_{i\\neq j}d(v_i, v_j)}$$\n",
        "\n",
        "where $d(v_i, v_j)$ is the shortest-path distance between $v_i$ and  $v_j$, $n$ is the number of nodes in the graph.\n",
        "\n"
      ],
      "metadata": {
        "id": "aGc9btTx_3KK"
      }
    },
    {
      "cell_type": "code",
      "source": [
        "\n",
        "betweenness_centrality = {}\n",
        "closeness_centrality = {}\n",
        "'''\n",
        "TODO\n",
        "\n",
        "'''\n",
        "print(betweenness_centrality )\n",
        "print(closeness_centrality )\n",
        "\n",
        "print(\"Betweenness Centrality of node 0 is {}\".format(betweenness_centrality[0]))\n",
        "\n",
        "print(\"Closenees Centrality of node 0 is {}\".format(closeness_centrality[0]))\n"
      ],
      "metadata": {
        "colab": {
          "base_uri": "https://localhost:8080/"
        },
        "id": "r3cP0NemGQ7k",
        "outputId": "e0e074c3-4ef1-4a0f-c4e9-c06c580b83d6"
      },
      "execution_count": null,
      "outputs": [
        {
          "output_type": "stream",
          "name": "stdout",
          "text": [
            "{0: 0.0, 1: 0.0, 2: 0.16666666666666666, 3: 0.16666666666666666, 4: 0.0}\n",
            "{0: 0.8, 1: 0.8, 2: 1.0, 3: 1.0, 4: 0.6666666666666666}\n",
            "Betweenness Centrality of node 0 is 0.0\n",
            "Closenees Centrality of node 0 is 0.8\n"
          ]
        }
      ]
    },
    {
      "cell_type": "markdown",
      "source": [
        "## Part 5 - Structural Equivalence (15 points)\n",
        "\n",
        "Vertex similarity\n",
        "$$s(v_i, v_j)=|N(v_i)\\cap N(v_j)|$$\n",
        "\n",
        "Jaccard similarity\n",
        "$$s_{jaccard}(v_i, v_j)=\\frac{|N(v_i)\\cap N(v_j)|}{|N(v_i)\\cup N(v_j)|}$$\n",
        "Cosine similarity\n",
        "$$s_{cosine}(v_i, v_j)=\\frac{|N(v_i)\\cap N(v_j)|}{\\sqrt{|N(v_i)|\\cdot|N(v_j)|}}$$"
      ],
      "metadata": {
        "id": "DGY_NR9_Gkgs"
      }
    },
    {
      "cell_type": "code",
      "source": [
        "def node_similarity(v, u, normalized=False):\n",
        "  neighbors_v = set(nx.neighbors(G, v))\n",
        "  neighbors_u = set(nx.neighbors(G, u))\n",
        "\n",
        "  result = 0\n",
        "  if not normalized:\n",
        "    result = len(neighbors_v.intersection(neighbors_u))\n",
        "    return result \n",
        "  elif normalized == \"cosine\":\n",
        "    \"\"\" \n",
        "    TO DO\n",
        "\n",
        "\n",
        "    \"\"\"\n",
        "    return result\n",
        "  elif normalized == \"jaccard\":\n",
        "    \"\"\" \n",
        "    TO DO .....\n",
        "\n",
        "\n",
        "    \"\"\"\n",
        "    return result\n",
        "  else:\n",
        "    pass\n",
        "\n",
        "print(node_similarity(0, 1))\n",
        "print(node_similarity(0, 1, \"cosine\"))\n",
        "print(node_similarity(0, 1, \"jaccard\"))\n"
      ],
      "metadata": {
        "colab": {
          "base_uri": "https://localhost:8080/"
        },
        "id": "pZu2XyCyKDSD",
        "outputId": "430dfa74-dee3-44f0-c0c7-8844a01f7a2f"
      },
      "execution_count": null,
      "outputs": [
        {
          "output_type": "stream",
          "name": "stdout",
          "text": [
            "2\n",
            "0.6666666666666666\n",
            "0.5\n"
          ]
        }
      ]
    },
    {
      "cell_type": "markdown",
      "source": [
        "## Part 6 - Community Detection: Girvan-Newman Algorithm (25 points)\n",
        "\n",
        "\n"
      ],
      "metadata": {
        "id": "88TOegTsPD_W"
      }
    },
    {
      "cell_type": "code",
      "source": [
        "\n",
        "def edge_to_remove(graph):\n",
        "\n",
        "  edge_betweenness_centrality_dict = {}\n",
        "  '''\n",
        "  TODO\n",
        "\n",
        "  '''\n",
        "  edge = ()\n",
        "  for key, value in sorted(edge_betweenness_centrality_dict.items(), key=lambda item: item[1], reverse = True):\n",
        "      edge = key\n",
        "      break\n",
        "\n",
        "  return edge\n",
        "\n",
        "def girvan_newman(graph):\n",
        "\t# find number of connected components\n",
        "\tconnected_component = nx.connected_components(graph)\n",
        "\tconnected_component_count = nx.number_connected_components(graph)\n",
        "\n",
        "\twhile(connected_component_count == 1):\n",
        "   '''\n",
        "   TODO\n",
        "   '''\n",
        "\n",
        "\treturn connected_component\n",
        "\n",
        "# the communities in the graph\n",
        "c = girvan_newman(G.copy())\n",
        "\n",
        "# to list\n",
        "node_groups = []\n",
        "\n",
        "for i in c:\n",
        "  node_groups.append(list(i))\n",
        "\n"
      ],
      "metadata": {
        "id": "VY5mPHztxCXz"
      },
      "execution_count": null,
      "outputs": []
    },
    {
      "cell_type": "code",
      "source": [
        "# plot the communities\n",
        "color_map = []\n",
        "for node in G:\n",
        "    if node in node_groups[0]:\n",
        "        #color_map.append('blue')\n",
        "        color_map.append('green')\n",
        "    else: \n",
        "        #color_map.append('green')\n",
        "        color_map.append('blue')\n",
        "\n",
        "nx.draw(G, node_color=color_map, with_labels=True)\n",
        "plt.show()"
      ],
      "metadata": {
        "colab": {
          "base_uri": "https://localhost:8080/",
          "height": 319
        },
        "id": "oePnD5KOxYyC",
        "outputId": "5de3ff0a-fa1b-4c84-9509-646e6acaddff"
      },
      "execution_count": null,
      "outputs": [
        {
          "output_type": "display_data",
          "data": {
            "text/plain": [
              "<Figure size 432x288 with 1 Axes>"
            ],
            "image/png": "[encoded data removed]"
          },
          "metadata": {}
        }
      ]
    },
    {
      "cell_type": "markdown",
      "source": [
        "### Note - It is possible to swap the colors. So if your blue and green are swapped, it's okay."
      ],
      "metadata": {
        "id": "5EOUyLR0AXK0"
      }
    },
    {
      "cell_type": "markdown",
      "source": [
        "## Reference \n",
        "\n"
      ],
      "metadata": {
        "id": "wGKkgKdVt_Ix"
      }
    }
  ]
}